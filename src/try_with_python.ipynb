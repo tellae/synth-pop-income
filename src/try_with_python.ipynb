{
 "cells": [
  {
   "cell_type": "code",
   "execution_count": 105,
   "metadata": {},
   "outputs": [],
   "source": [
    "import pandas as pd\n",
    "import numpy as np\n",
    "import scipy.interpolate as si"
   ]
  },
  {
   "cell_type": "code",
   "execution_count": 106,
   "metadata": {},
   "outputs": [
    {
     "name": "stdout",
     "output_type": "stream",
     "text": [
      "          age    size ownership           family_comp\n",
      "0       60_74  2_pers     Owner  Couple_without_child\n",
      "1       60_74  2_pers     Owner  Couple_without_child\n",
      "2       60_74  2_pers     Owner  Couple_without_child\n",
      "3        0_29  1_pers    Tenant            Single_wom\n",
      "4       60_74  2_pers     Owner  Couple_without_child\n",
      "...       ...     ...       ...                   ...\n",
      "157642   0_29  1_pers    Tenant            Single_man\n",
      "157643   0_29  1_pers    Tenant            Single_wom\n",
      "157644   0_29  1_pers    Tenant            Single_wom\n",
      "157645   0_29  1_pers    Tenant            Single_wom\n",
      "157646   0_29  1_pers    Tenant            Single_wom\n",
      "\n",
      "[157647 rows x 4 columns]\n"
     ]
    }
   ],
   "source": [
    "synth_pop_original = pd.read_feather(\"synth_pop_original.feather\")\n",
    "print(synth_pop_original)"
   ]
  },
  {
   "cell_type": "code",
   "execution_count": 107,
   "metadata": {},
   "outputs": [
    {
     "name": "stdout",
     "output_type": "stream",
     "text": [
      "                    modality            D1            D2            D3  \\\n",
      "0                   1 person   9794.000000  12961.000000  14914.000000   \n",
      "1                  2 persons  12176.000000  15552.666667  18356.000000   \n",
      "2                  3 persons  10583.500000  13655.555556  16489.000000   \n",
      "3                  4 persons  10740.476190  14130.000000  17206.666667   \n",
      "4          5 persons or more   8758.461538  10990.000000  12878.666667   \n",
      "5                 Single man   9016.000000  12223.500000  14288.000000   \n",
      "6               Single woman  10714.000000  13334.000000  15332.000000   \n",
      "7   Couple  without children  14417.333333  18066.000000  20791.333333   \n",
      "8      Couple  with children  10822.380952  14237.826087  17645.714286   \n",
      "9       Single parent family   8702.500000  10367.200000  11914.666667   \n",
      "10        Complex households   8692.000000  11052.121212  13063.076923   \n",
      "11                      0_29   8370.625000  11116.666667  13501.000000   \n",
      "12                     30_39   9985.384615  12872.500000  15538.750000   \n",
      "13                     40_49   9827.105263  12733.200000  15226.000000   \n",
      "14                     50_59  10371.000000  13511.666667  16617.333333   \n",
      "15                     60_74  12473.500000  15582.000000  18641.000000   \n",
      "16                75_or_more  14005.000000  16389.000000  18582.666667   \n",
      "17                     Owner  16542.666667  19965.600000  22545.384615   \n",
      "18                    Tenant   8764.444444  10912.000000  12748.000000   \n",
      "\n",
      "              D4            D5            D6            D7            D8  \\\n",
      "0   16865.000000  18687.000000  20763.000000  23357.000000  27069.000000   \n",
      "1   20919.333333  23434.666667  26330.666667  30140.000000  35136.000000   \n",
      "2   19145.000000  21893.333333  24890.555556  28440.000000  33432.222222   \n",
      "3   20138.095238  22955.238095  26148.000000  29644.000000  34238.000000   \n",
      "4   15466.938776  18990.666667  23164.285714  27638.214286  33238.461538   \n",
      "5   16387.500000  18268.000000  20305.000000  22908.000000  26696.000000   \n",
      "6   17186.000000  19031.000000  21111.000000  23715.000000  27360.000000   \n",
      "7   23224.666667  25785.333333  28911.333333  32718.000000  37960.666667   \n",
      "8   20665.000000  23596.388889  26837.000000  30527.619048  35572.857143   \n",
      "9   13557.222222  15179.333333  17134.948718  19370.400000  22761.333333   \n",
      "10  15206.800000  17648.000000  20451.500000  23853.000000  27843.000000   \n",
      "11  15677.619048  17572.307692  19557.000000  21803.000000  24512.666667   \n",
      "12  18121.904762  20688.000000  23463.333333  26704.000000  30771.428571   \n",
      "13  17993.488372  20838.888889  24055.000000  27842.307692  32837.142857   \n",
      "14  19508.800000  22560.666667  26030.400000  30095.000000  35710.000000   \n",
      "15  21412.500000  24359.500000  27777.500000  32049.000000  37750.666667   \n",
      "16  20868.666667  23275.000000  26028.000000  29648.000000  34849.333333   \n",
      "17  25022.222222  27626.000000  30611.764706  34335.500000  39726.875000   \n",
      "18  14433.125000  16265.416667  18266.000000  20615.333333  23870.000000   \n",
      "\n",
      "              D9  \n",
      "0   33514.000000  \n",
      "1   44134.000000  \n",
      "2   42079.444444  \n",
      "3   42998.095238  \n",
      "4   43292.424242  \n",
      "5   33551.000000  \n",
      "6   33480.000000  \n",
      "7   47273.333333  \n",
      "8   44977.000000  \n",
      "9   28732.727273  \n",
      "10  35178.571429  \n",
      "11  28920.000000  \n",
      "12  37299.523810  \n",
      "13  42018.000000  \n",
      "14  46658.000000  \n",
      "15  48548.000000  \n",
      "16  43945.000000  \n",
      "17  50060.000000  \n",
      "18  29860.476190  \n"
     ]
    }
   ],
   "source": [
    "deciles_filosofi = pd.read_feather(\"deciles_filosofi.feather\")\n",
    "print(deciles_filosofi)"
   ]
  },
  {
   "cell_type": "code",
   "execution_count": 108,
   "metadata": {},
   "outputs": [],
   "source": [
    "# dec_owner = synth_pop_original[\"ownership\"].unique()   # [\"Owner\", \"Tenant\"]\n",
    "# dec_fam_comp = synth_pop_original[\"family_comp\"].unique()  # [\"Single_man\", \"Single_wom\", \"Couple_without_child\", \"Couple_with_child\", \"Single_parent\", \"complex_hh\"]\n",
    "# dec_age = synth_pop_original[\"age\"].unique()  # [\"0_29\", \"30_39\",  \"40_49\", \"50_59\", \"60_74\", \"75_or_more\"]\n",
    "# dec_size = synth_pop_original[\"size\"].unique()  # [\"1_pers\", \"2_pers\", \"3_pers\", \"4_pers\", \"5_pers_or_more\"]"
   ]
  },
  {
   "cell_type": "code",
   "execution_count": 109,
   "metadata": {},
   "outputs": [],
   "source": [
    "# dec_owner = [\"Owner\", \"Tenant\"]\n",
    "# dec_fam_comp = [\"Single_man\", \"Single_wom\", \"Couple_without_child\", \"Couple_with_child\", \"Single_parent\", \"complex_hh\"]\n",
    "# dec_age = [\"0_29\", \"30_39\",  \"40_49\", \"50_59\", \"60_74\", \"75_or_more\"]\n",
    "# dec_size = [\"1_pers\", \"2_pers\", \"3_pers\", \"4_pers\", \"5_pers_or_more\"]"
   ]
  },
  {
   "cell_type": "code",
   "execution_count": 110,
   "metadata": {},
   "outputs": [],
   "source": [
    "# tmp_fam_comp, tmp_owner, tmp_age, tmp_size = np.meshgrid(dec_fam_comp, dec_owner, dec_age, dec_size)\n",
    "# synt_pop_comb = pd.DataFrame.from_dict({\n",
    "#     \"ownership\": tmp_owner.flatten(),\n",
    "#     \"age\": tmp_age.flatten(),\n",
    "#     \"size\": tmp_size.flatten(),\n",
    "#     \"family_comp\": tmp_fam_comp.flatten()\n",
    "# })\n",
    "# synt_pop_comb[\"total\"] = synt_pop_comb[[\"ownership\", \"age\" ,\"size\", \"family_comp\"]].agg(' '.join, axis=1)\n",
    "\n",
    "# print(synt_pop_comb)"
   ]
  },
  {
   "cell_type": "code",
   "execution_count": 111,
   "metadata": {},
   "outputs": [
    {
     "name": "stdout",
     "output_type": "stream",
     "text": [
      "    ownership         age            size family_comp  \\\n",
      "0      Tenant        0_29          1_pers  Single_wom   \n",
      "1       Owner        0_29          1_pers  Single_wom   \n",
      "2      Tenant       30_39          1_pers  Single_wom   \n",
      "3       Owner       30_39          1_pers  Single_wom   \n",
      "4      Tenant       40_49          1_pers  Single_wom   \n",
      "..        ...         ...             ...         ...   \n",
      "355     Owner       50_59  5_pers_or_more  complex_hh   \n",
      "356    Tenant       60_74  5_pers_or_more  complex_hh   \n",
      "357     Owner       60_74  5_pers_or_more  complex_hh   \n",
      "358    Tenant  75_or_more  5_pers_or_more  complex_hh   \n",
      "359     Owner  75_or_more  5_pers_or_more  complex_hh   \n",
      "\n",
      "                                           total    count  probability  \n",
      "0                  Tenant 0_29 1_pers Single_wom  14613.0     0.092694  \n",
      "1                   Owner 0_29 1_pers Single_wom    485.0     0.003076  \n",
      "2                 Tenant 30_39 1_pers Single_wom   3308.0     0.020984  \n",
      "3                  Owner 30_39 1_pers Single_wom   1244.0     0.007891  \n",
      "4                 Tenant 40_49 1_pers Single_wom   2082.0     0.013207  \n",
      "..                                           ...      ...          ...  \n",
      "355        Owner 50_59 5_pers_or_more complex_hh      0.0     0.000000  \n",
      "356       Tenant 60_74 5_pers_or_more complex_hh      9.0     0.000057  \n",
      "357        Owner 60_74 5_pers_or_more complex_hh      4.0     0.000025  \n",
      "358  Tenant 75_or_more 5_pers_or_more complex_hh      2.0     0.000013  \n",
      "359   Owner 75_or_more 5_pers_or_more complex_hh      0.0     0.000000  \n",
      "\n",
      "[360 rows x 7 columns]\n"
     ]
    }
   ],
   "source": [
    "synth_pop_original[\"count\"] = 1\n",
    "synt_pop_comb = synth_pop_original.groupby([\"family_comp\", \"size\" ,\"age\", \"ownership\"])[\"count\"].sum().fillna(0.0).reset_index()\n",
    "synt_pop_comb[\"total\"] = synt_pop_comb[[\"ownership\", \"age\" ,\"size\", \"family_comp\"]].agg(' '.join, axis=1)\n",
    "synt_pop_comb[\"probability\"] = synt_pop_comb[\"count\"] / synt_pop_comb[\"count\"].sum()\n",
    "#reorder col\n",
    "synt_pop_comb = synt_pop_comb[[\"ownership\", \"age\" ,\"size\", \"family_comp\", \"total\", \"count\", \"probability\"]]\n",
    "\n",
    "print(synt_pop_comb)"
   ]
  },
  {
   "cell_type": "code",
   "execution_count": 113,
   "metadata": {},
   "outputs": [
    {
     "name": "stdout",
     "output_type": "stream",
     "text": [
      "           income  probability\n",
      "0     8370.625000     0.081241\n",
      "1     8692.000000     0.084360\n",
      "2     8702.500000     0.084462\n",
      "3     8758.461538     0.085005\n",
      "4     8764.444444     0.085063\n",
      "..            ...          ...\n",
      "185  67465.500000     0.977430\n",
      "186  69987.000000     0.984894\n",
      "187  70910.000000     0.987627\n",
      "188  72822.000000     0.993286\n",
      "189  75090.000000     1.000000\n",
      "\n",
      "[190 rows x 2 columns]\n"
     ]
    }
   ],
   "source": [
    "deciles_filosofi[\"D10\"] = 1.5 * deciles_filosofi[\"D9\"]\n",
    "deciles_filosofi[\"D0\"] = 0\n",
    "\n",
    "vec_all_incomes = deciles_filosofi[[\"D1\", \"D2\", \"D3\", \"D4\", \"D5\", \"D6\", \"D7\", \"D8\", \"D9\", \"D10\"]].to_numpy().flatten()\n",
    "vec_all_incomes = np.sort(vec_all_incomes)\n",
    "\n",
    "total_population_decile = [0.00, 10303.48, 13336.07, 16023.85, 18631.33, 21262.67, 24188.00, 27774.44, 32620.00, 41308.00, 75090.00]\n",
    "f = si.interp1d(total_population_decile, np.linspace(0, 1, len(total_population_decile)))\n",
    "p_R = pd.DataFrame({\n",
    "    \"income\": vec_all_incomes,\n",
    "    \"probability\": f(vec_all_incomes)\n",
    "})\n",
    "\n",
    "print(p_R)"
   ]
  },
  {
   "cell_type": "code",
   "execution_count": null,
   "metadata": {},
   "outputs": [],
   "source": [
    "# try with https://github.com/PythonCharmers/maxentropy\n",
    "# we want KL divergence\n",
    "# priorlogprobs = P('homme' & 'proptio')\n",
    "# Sortie=minxent.multiple(q=final_joint_proba,G=Moment_mat[Iii,],eta = eta_c[Iii,i],lambda = rep(0,length(Iii)-1)) # mieux gérer les lambda\n",
    "# q = priorlogprobs\n",
    "# G = samplesize\n",
    "# eta = K\n",
    "# lambda = (tout à 0?) (facteurs lagrange initiaux)"
   ]
  }
 ],
 "metadata": {
  "interpreter": {
   "hash": "54877655277d4eb55cab4fc06ac5f62cfa86a570683dbba06fd7ba68d5879ef1"
  },
  "kernelspec": {
   "display_name": "Python 3.7.7 64-bit ('nantes': conda)",
   "language": "python",
   "name": "python3"
  },
  "language_info": {
   "codemirror_mode": {
    "name": "ipython",
    "version": 3
   },
   "file_extension": ".py",
   "mimetype": "text/x-python",
   "name": "python",
   "nbconvert_exporter": "python",
   "pygments_lexer": "ipython3",
   "version": "3.7.7"
  },
  "orig_nbformat": 4
 },
 "nbformat": 4,
 "nbformat_minor": 2
}
